{
 "cells": [
  {
   "cell_type": "code",
   "execution_count": 1,
   "id": "d387a7c5-94f7-4128-ab1b-1c409d392eaf",
   "metadata": {},
   "outputs": [],
   "source": [
    "# lib imports\n",
    "import pandas as pd\n",
    "import numpy as np"
   ]
  },
  {
   "cell_type": "code",
   "execution_count": 2,
   "id": "9b20fe24-1ce9-40c5-b488-049c6c9f9fa7",
   "metadata": {},
   "outputs": [],
   "source": [
    "# class imports\n",
    "\n",
    "from Layers.DenseLayer import DenseLayer\n",
    "from ActivationClasses.ReluActivation import ReluActivation\n",
    "from ActivationClasses.SoftmaxActivation import Softmax\n",
    "from Loss.CategoricalCrossEntropy import CategoricalCrossEntropy\n",
    "from Optimizer.Adam import Optimizer_Adam"
   ]
  },
  {
   "cell_type": "code",
   "execution_count": 3,
   "id": "d2993666-f4c6-41a6-a4a3-4d1a0c73868e",
   "metadata": {},
   "outputs": [],
   "source": [
    "# data load\n",
    "\n",
    "data_train = pd.read_csv(\"./Datasets/mnist_train.csv\")\n",
    "data_test = pd.read_csv(\"./Datasets/mnist_test.csv\")"
   ]
  },
  {
   "cell_type": "code",
   "execution_count": 4,
   "id": "619672c6-b471-4d5d-b177-af761c4c1499",
   "metadata": {},
   "outputs": [],
   "source": [
    "X_train, y_train = data_train.iloc[:, 1:].values / 255.0, data_train.iloc[:, 0].values\n",
    "X_test, y_test =  data_test.iloc[:, 1:].values / 255.0, data_test.iloc[:, 0].values"
   ]
  },
  {
   "cell_type": "code",
   "execution_count": 11,
   "id": "bda35175-10eb-4bc1-bf42-af24544368a7",
   "metadata": {},
   "outputs": [],
   "source": [
    "# layers / network params\n",
    "\n",
    "l1 = DenseLayer(784, 128)\n",
    "act1 = ReluActivation()\n",
    "\n",
    "l2 = DenseLayer(128, 64)\n",
    "act2 = ReluActivation()\n",
    "\n",
    "l3 = DenseLayer(64, 10)\n",
    "act3 = Softmax()\n",
    "\n",
    "loss = CategoricalCrossEntropy()\n",
    "optimizer = Optimizer_Adam(learning_rate=0.001)"
   ]
  },
  {
   "cell_type": "code",
   "execution_count": 6,
   "id": "cdf55941-0c38-4f38-ad9f-40fbfbc5aeb3",
   "metadata": {},
   "outputs": [],
   "source": [
    "# train\n",
    "epochs = 200"
   ]
  },
  {
   "cell_type": "code",
   "execution_count": 7,
   "id": "5b81d57e-e2dd-47ae-a508-8ce2e749b48d",
   "metadata": {},
   "source": [
    "for epoch in range(epochs + 1):\n",
    "    # forward prop\n",
    "    l1.forward_prop(X_train)\n",
    "    act1.forward(l1.output)\n",
    "\n",
    "    l2.forward_prop(act1.output)\n",
    "    act2.forward(l2.output)\n",
    "\n",
    "    l3.forward_prop(act2.output)\n",
    "    act3.forward(l3.output)\n",
    "\n",
    "    # loss calc\n",
    "    loss_fin = loss.calculate(act3.output, y_train)\n",
    "\n",
    "    # back prop\n",
    "\n",
    "    loss.backward(act3.output, y_train)\n",
    "    act3.backward(loss.dinputs)\n",
    "    l3.backward(act3.dinputs)\n",
    "    act2.backward(l3.dinputs)\n",
    "    l2.backward(act2.dinputs)\n",
    "    act1.backward(l2.dinputs)\n",
    "    l1.backward(act1.dinputs)\n",
    "\n",
    "    # optimise\n",
    "\n",
    "    optimizer.update_params(l1)\n",
    "    optimizer.update_params(l2)\n",
    "    optimizer.update_params(l3)\n",
    "    predictions = np.argmax(act3.output, axis=1)\n",
    "    accuracy = np.mean(predictions == y_train)\n",
    "    print(f'Epoch: {epoch}, Loss: {loss_fin}, Accuracy: {accuracy}')\n",
    "\n",
    "# result\n",
    "predictions = np.argmax(act3.output, axis=1)\n",
    "accuracy = np.mean(predictions == y_train)\n",
    "\n",
    "print(f'Final accuracy: {accuracy}')\n",
    "print(f'Final loss: {loss_fin}')\n",
    "    "
   ]
  },
  {
   "cell_type": "code",
   "execution_count": 8,
   "id": "e3a2b9f6-dc53-446c-9b1f-e87a872c3ad7",
   "metadata": {},
    }
   ],
   "source": [
    "# test\n",
    "\n",
    "correct = 0\n",
    "for i in range(len(X_test)):\n",
    "    # Forward pass\n",
    "    l1.forward_prop(X_test[i])\n",
    "    act1.forward(l1.output)\n",
    "\n",
    "    l2.forward_prop(act1.output)\n",
    "    act2.forward(l2.output)\n",
    "\n",
    "    l3.forward_prop(act2.output)\n",
    "    act3.forward(l3.output)\n",
    "\n",
    "    # Calculate loss and accuracy for each test sample\n",
    "\n",
    "    prediction = np.argmax(act3.output)\n",
    "    if prediction == y_test[i]:\n",
    "        correct += 1\n",
    "\n",
    "    # Print label and guess for each test sample\n",
    "    print(f'Label: {y_test[i]}, Guess: {prediction}')\n",
    "\n",
    "# Calculate overall accuracy and loss\n",
    "accuracy = correct / len(X_test)\n",
    "print(f'Test Accuracy: {accuracy}')\n"
   ]
  }
 ],
 "metadata": {
  "kernelspec": {
   "display_name": "Python 3 (ipykernel)",
   "language": "python",
   "name": "python3"
  },
  "language_info": {
   "codemirror_mode": {
    "name": "ipython",
    "version": 3
   },
   "file_extension": ".py",
   "mimetype": "text/x-python",
   "name": "python",
   "nbconvert_exporter": "python",
   "pygments_lexer": "ipython3",
   "version": "3.11.4"
  }
 },
 "nbformat": 4,
 "nbformat_minor": 5
}
